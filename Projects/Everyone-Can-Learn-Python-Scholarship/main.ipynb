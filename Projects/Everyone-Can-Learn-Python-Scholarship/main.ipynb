{
 "cells": [
  {
   "attachments": {},
   "cell_type": "markdown",
   "metadata": {},
   "source": [
    "## 💡 Learn more\n",
    "\n",
    "The following DataCamp courses can help review the skills needed for this challenge:\n",
    "\n",
    "* [Introduction to Python](https://www.datacamp.com/courses/introduction-to-python)\n",
    "* [Introduction to SQL](https://www.datacamp.com/courses/introduction-to-sql)"
   ]
  },
  {
   "attachments": {},
   "cell_type": "markdown",
   "metadata": {},
   "source": [
    "## 1️⃣ Python 🐍 - CO2 Emissions\n",
    "\n",
    "Now let's now move on to the competition and challenge.\n",
    "\n",
    "## 📖 Background\n",
    "You volunteer for a public policy advocacy organization in Canada, and your colleague asked you to help her draft recommendations for guidelines on CO2 emissions rules. \n",
    "\n",
    "After researching emissions data for a wide range of Canadian vehicles, she would like you to investigate which vehicles produce lower emissions."
   ]
  },
  {
   "attachments": {},
   "cell_type": "markdown",
   "metadata": {},
   "source": [
    "\n",
    "\n",
    "## 💾 The data I\n",
    "​\n",
    "### You have access to seven years of CO2 emissions data for Canadian vehicles ([source](https://open.canada.ca/data/en/dataset/98f1a129-f628-4ce4-b24d-6f16bf24dd64#wb-auto-6)):\n",
    "​\n",
    "- \"Make\" - The company that manufactures the vehicle.\n",
    "- \"Model\" - The vehicle's model.\n",
    "- \"Vehicle Class\" - Vehicle class by utility, capacity, and weight.\n",
    "- \"Engine Size(L)\" - The engine's displacement in liters.\n",
    "- \"Cylinders\" - The number of cylinders.\n",
    "- \"Transmission\" - The transmission type: A = Automatic, AM = Automatic Manual, AS = Automatic with select shift, AV = Continuously variable, M = Manual, 3 - 10 = the number of gears.\n",
    "- \"Fuel Type\" - The fuel type: X = Regular gasoline, Z = Premium gasoline, D = Diesel, E = Ethanol (E85), N = natural gas.\n",
    "- \"Fuel Consumption Comb (L/100 km)\" - Combined city/highway (55%/45%) fuel consumption in liters per 100 km (L/100 km).\n",
    "- \"CO2 Emissions(g/km)\" - The tailpipe carbon dioxide emissions in grams per kilometer for combined city and highway driving. \n",
    "​\n",
    "\n",
    "The data comes from the Government of Canada's open data [website](https://open.canada.ca/en).\n"
   ]
  },
  {
   "cell_type": "code",
   "execution_count": null,
   "metadata": {},
   "outputs": [],
   "source": [
    "# Import the pandas and numpy packages\n",
    "import pandas as pd\n",
    "import numpy as np\n",
    "\n",
    "# Load the data\n",
    "cars = pd.read_csv('data/co2_emissions_canada.csv')\n",
    "\n",
    "# create numpy arrays\n",
    "cars_makes = cars['Make'].to_numpy()\n",
    "cars_models = cars['Model'].to_numpy()\n",
    "cars_classes = cars['Vehicle Class'].to_numpy()\n",
    "cars_engine_sizes = cars['Engine Size(L)'].to_numpy()\n",
    "cars_cylinders = cars['Cylinders'].to_numpy()\n",
    "cars_transmissions = cars['Transmission'].to_numpy()\n",
    "cars_fuel_types = cars['Fuel Type'].to_numpy()\n",
    "cars_fuel_consumption = cars['Fuel Consumption Comb (L/100 km)'].to_numpy()\n",
    "cars_co2_emissions = cars['CO2 Emissions(g/km)'].to_numpy()\n",
    "\n",
    "# Preview the dataframe\n",
    "cars"
   ]
  },
  {
   "cell_type": "code",
   "execution_count": null,
   "metadata": {},
   "outputs": [],
   "source": [
    "# Look at the first ten items in the CO2 emissions array\n",
    "cars_co2_emissions[:10]"
   ]
  },
  {
   "attachments": {},
   "cell_type": "markdown",
   "metadata": {},
   "source": [
    "## 💪 Challenge I\n",
    "Help your colleague gain insights on the type of vehicles that have lower CO2 emissions. Include:\n",
    "\n",
    "1. What is the median engine size in liters?\n",
    "2. What is the average fuel consumption for regular gasoline (Fuel Type = X), premium gasoline (Z), ethanol (E), and diesel (D)?  \n",
    "3. What is the correlation between fuel consumption and CO2 emissions?\n",
    "4. Which vehicle class has lower average CO2 emissions, 'SUV - SMALL' or 'MID-SIZE'? \n",
    "5. What are the average CO2 emissions for all vehicles? For vehicles with an engine size of 2.0 liters or smaller?\n",
    "6. Any other insights you found during your analysis?"
   ]
  },
  {
   "cell_type": "code",
   "execution_count": null,
   "metadata": {},
   "outputs": [],
   "source": [
    "# 1. What is the median engine size in liters?\n",
    "median_engine_size = np.median(cars_engine_sizes)\n",
    "\n",
    "print(f'Median engine size: {median_engine_size}(L)')"
   ]
  },
  {
   "cell_type": "code",
   "execution_count": null,
   "metadata": {},
   "outputs": [],
   "source": [
    "# 2. What is the average fuel consumption for regular gasoline (Fuel Type = X), premium gasoline (Z), ethanol (E), and diesel (D)?\n",
    "fuel_type = ('X', 'Z', 'E', 'D')\n",
    "\n",
    "    \n",
    "fuel_x = cars[cars['Fuel Type'] == \"X\"]['Fuel Consumption Comb (L/100 km)'].mean()\n",
    "fuel_z = cars[cars['Fuel Type'] == \"Z\"]['Fuel Consumption Comb (L/100 km)'].mean()\n",
    "fuel_e = cars[cars['Fuel Type'] == \"E\"]['Fuel Consumption Comb (L/100 km)'].mean()\n",
    "fuel_d = cars[cars['Fuel Type'] == \"D\"]['Fuel Consumption Comb (L/100 km)'].mean()\n",
    "\n",
    "print(f'Regular gasoline = {fuel_x}\\nPremiun gasoline = {fuel_z}\\nEthanol = {fuel_e}\\nDiesel = {fuel_d}')"
   ]
  },
  {
   "cell_type": "code",
   "execution_count": null,
   "metadata": {},
   "outputs": [],
   "source": [
    "# 3. What is the correlation between fuel consumption and CO2 emissions?\n",
    "\n",
    "correlation = np.corrcoef(cars_fuel_consumption, cars_co2_emissions)\n",
    "print(correlation)"
   ]
  },
  {
   "cell_type": "code",
   "execution_count": null,
   "metadata": {},
   "outputs": [],
   "source": [
    "# 4. Which vehicle class has lower average CO2 emissions, 'SUV - SMALL' or 'MID-SIZE'?\n",
    "min_emission = cars_co2_emissions.max()\n",
    "car_type = ('SUV - SMALL', 'MID-SIZE') \n",
    "\n",
    "for tp in car_type:\n",
    "    actual = cars[cars['Vehicle Class'] == tp]['CO2 Emissions(g/km)'].mean()\n",
    "    \n",
    "    if actual < min_emission:\n",
    "        min_emission = actual\n",
    "        car_class = tp\n",
    "\n",
    "print(f'{car_class} has lower average CO2 emissions: {round(min_emission, 2)}')"
   ]
  },
  {
   "cell_type": "code",
   "execution_count": null,
   "metadata": {},
   "outputs": [],
   "source": [
    "# 5. What are the average CO2 emissions for all vehicles? For vehicles with an engine size of 2.0 liters or smaller?\n",
    "\n",
    "gnrl_avg = cars_co2_emissions.mean()\n",
    "eng_size_small = cars[cars['Engine Size(L)'] <= 2]['CO2 Emissions(g/km)'].mean()\n",
    "\n",
    "print(f'General CO2 emissions for all vehicles: {gnrl_avg}\\nEmissions for vehicles with small engine size: {eng_size_small}')"
   ]
  },
  {
   "cell_type": "code",
   "execution_count": null,
   "metadata": {},
   "outputs": [],
   "source": [
    "# 6. Any other insights you found during your analysis?\n",
    "\n",
    "for car in np.unique(cars_makes):\n",
    "    print(car + ' : ' + str(cars[cars['Make'] == car]['CO2 Emissions(g/km)'].mean()))\n",
    "\n",
    "\n",
    "    \n",
    "maximo = cars.sort_values('Cylinders', ascending=False)\n",
    "\n",
    "    \n",
    "print(maximo)"
   ]
  }
 ],
 "metadata": {
  "kernelspec": {
   "display_name": "Python 3",
   "language": "python",
   "name": "python3"
  },
  "language_info": {
   "name": "python",
   "version": "3.11.1"
  },
  "orig_nbformat": 4
 },
 "nbformat": 4,
 "nbformat_minor": 2
}
