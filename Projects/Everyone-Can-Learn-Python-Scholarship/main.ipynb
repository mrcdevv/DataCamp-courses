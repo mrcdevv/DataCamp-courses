{
 "cells": [
  {
   "attachments": {},
   "cell_type": "markdown",
   "metadata": {},
   "source": [
    "## 💡 Learn more\n",
    "\n",
    "The following DataCamp courses can help review the skills needed for this challenge:\n",
    "\n",
    "* [Introduction to Python](https://www.datacamp.com/courses/introduction-to-python)\n",
    "* [Introduction to SQL](https://www.datacamp.com/courses/introduction-to-sql)"
   ]
  },
  {
   "attachments": {},
   "cell_type": "markdown",
   "metadata": {},
   "source": [
    "## 1️⃣ Python 🐍 - CO2 Emissions\n",
    "\n",
    "Now let's now move on to the competition and challenge.\n",
    "\n",
    "## 📖 Background\n",
    "You volunteer for a public policy advocacy organization in Canada, and your colleague asked you to help her draft recommendations for guidelines on CO2 emissions rules. \n",
    "\n",
    "After researching emissions data for a wide range of Canadian vehicles, she would like you to investigate which vehicles produce lower emissions."
   ]
  },
  {
   "attachments": {},
   "cell_type": "markdown",
   "metadata": {},
   "source": [
    "\n",
    "\n",
    "## 💾 The data I\n",
    "​\n",
    "### You have access to seven years of CO2 emissions data for Canadian vehicles ([source](https://open.canada.ca/data/en/dataset/98f1a129-f628-4ce4-b24d-6f16bf24dd64#wb-auto-6)):\n",
    "​\n",
    "- \"Make\" - The company that manufactures the vehicle.\n",
    "- \"Model\" - The vehicle's model.\n",
    "- \"Vehicle Class\" - Vehicle class by utility, capacity, and weight.\n",
    "- \"Engine Size(L)\" - The engine's displacement in liters.\n",
    "- \"Cylinders\" - The number of cylinders.\n",
    "- \"Transmission\" - The transmission type: A = Automatic, AM = Automatic Manual, AS = Automatic with select shift, AV = Continuously variable, M = Manual, 3 - 10 = the number of gears.\n",
    "- \"Fuel Type\" - The fuel type: X = Regular gasoline, Z = Premium gasoline, D = Diesel, E = Ethanol (E85), N = natural gas.\n",
    "- \"Fuel Consumption Comb (L/100 km)\" - Combined city/highway (55%/45%) fuel consumption in liters per 100 km (L/100 km).\n",
    "- \"CO2 Emissions(g/km)\" - The tailpipe carbon dioxide emissions in grams per kilometer for combined city and highway driving. \n",
    "​\n",
    "\n",
    "The data comes from the Government of Canada's open data [website](https://open.canada.ca/en).\n"
   ]
  },
  {
   "cell_type": "code",
   "execution_count": null,
   "metadata": {},
   "outputs": [],
   "source": [
    "# Import the pandas and numpy packages\n",
    "import pandas as pd\n",
    "import numpy as np\n",
    "\n",
    "# Load the data\n",
    "cars = pd.read_csv('data/co2_emissions_canada.csv')\n",
    "\n",
    "# create numpy arrays\n",
    "cars_makes = cars['Make'].to_numpy()\n",
    "cars_models = cars['Model'].to_numpy()\n",
    "cars_classes = cars['Vehicle Class'].to_numpy()\n",
    "cars_engine_sizes = cars['Engine Size(L)'].to_numpy()\n",
    "cars_cylinders = cars['Cylinders'].to_numpy()\n",
    "cars_transmissions = cars['Transmission'].to_numpy()\n",
    "cars_fuel_types = cars['Fuel Type'].to_numpy()\n",
    "cars_fuel_consumption = cars['Fuel Consumption Comb (L/100 km)'].to_numpy()\n",
    "cars_co2_emissions = cars['CO2 Emissions(g/km)'].to_numpy()\n",
    "\n",
    "# Preview the dataframe\n",
    "cars"
   ]
  },
  {
   "cell_type": "code",
   "execution_count": null,
   "metadata": {},
   "outputs": [],
   "source": [
    "# Look at the first ten items in the CO2 emissions array\n",
    "cars_co2_emissions[:10]"
   ]
  },
  {
   "attachments": {},
   "cell_type": "markdown",
   "metadata": {},
   "source": [
    "## 💪 Challenge I\n",
    "Help your colleague gain insights on the type of vehicles that have lower CO2 emissions. Include:\n",
    "\n",
    "1. What is the median engine size in liters?\n",
    "2. What is the average fuel consumption for regular gasoline (Fuel Type = X), premium gasoline (Z), ethanol (E), and diesel (D)?  \n",
    "3. What is the correlation between fuel consumption and CO2 emissions?\n",
    "4. Which vehicle class has lower average CO2 emissions, 'SUV - SMALL' or 'MID-SIZE'? \n",
    "5. What are the average CO2 emissions for all vehicles? For vehicles with an engine size of 2.0 liters or smaller?\n",
    "6. Any other insights you found during your analysis?"
   ]
  },
  {
   "cell_type": "code",
   "execution_count": null,
   "metadata": {},
   "outputs": [],
   "source": [
    "# 1. What is the median engine size in liters?\n",
    "median_engine_size = np.median(cars_engine_sizes)\n",
    "\n",
    "print(f'Median engine size: {median_engine_size}(L)')"
   ]
  },
  {
   "cell_type": "code",
   "execution_count": null,
   "metadata": {},
   "outputs": [],
   "source": [
    "# 2. What is the average fuel consumption for regular gasoline (Fuel Type = X), premium gasoline (Z), ethanol (E), and diesel (D)?\n",
    "fuel_type = ('X', 'Z', 'E', 'D')\n",
    "\n",
    "    \n",
    "fuel_x = cars[cars['Fuel Type'] == \"X\"]['Fuel Consumption Comb (L/100 km)'].mean()\n",
    "fuel_z = cars[cars['Fuel Type'] == \"Z\"]['Fuel Consumption Comb (L/100 km)'].mean()\n",
    "fuel_e = cars[cars['Fuel Type'] == \"E\"]['Fuel Consumption Comb (L/100 km)'].mean()\n",
    "fuel_d = cars[cars['Fuel Type'] == \"D\"]['Fuel Consumption Comb (L/100 km)'].mean()\n",
    "\n",
    "print(f'Regular gasoline = {fuel_x}\\nPremiun gasoline = {fuel_z}\\nEthanol = {fuel_e}\\nDiesel = {fuel_d}')"
   ]
  },
  {
   "cell_type": "code",
   "execution_count": null,
   "metadata": {},
   "outputs": [],
   "source": [
    "# 3. What is the correlation between fuel consumption and CO2 emissions?\n",
    "\n",
    "correlation = np.corrcoef(cars_fuel_consumption, cars_co2_emissions)\n",
    "print(correlation)"
   ]
  },
  {
   "cell_type": "code",
   "execution_count": null,
   "metadata": {},
   "outputs": [],
   "source": [
    "# 4. Which vehicle class has lower average CO2 emissions, 'SUV - SMALL' or 'MID-SIZE'?\n",
    "min_emission = cars_co2_emissions.max()\n",
    "car_type = ('SUV - SMALL', 'MID-SIZE') \n",
    "\n",
    "for tp in car_type:\n",
    "    actual = cars[cars['Vehicle Class'] == tp]['CO2 Emissions(g/km)'].mean()\n",
    "    \n",
    "    if actual < min_emission:\n",
    "        min_emission = actual\n",
    "        car_class = tp\n",
    "\n",
    "print(f'{car_class} has lower average CO2 emissions: {round(min_emission, 2)}')"
   ]
  },
  {
   "cell_type": "code",
   "execution_count": null,
   "metadata": {},
   "outputs": [],
   "source": [
    "# 5. What are the average CO2 emissions for all vehicles? For vehicles with an engine size of 2.0 liters or smaller?\n",
    "\n",
    "gnrl_avg = cars_co2_emissions.mean()\n",
    "eng_size_small = cars[cars['Engine Size(L)'] <= 2]['CO2 Emissions(g/km)'].mean()\n",
    "\n",
    "print(f'General CO2 emissions for all vehicles: {gnrl_avg}\\nEmissions for vehicles with small engine size: {eng_size_small}')"
   ]
  },
  {
   "cell_type": "code",
   "execution_count": null,
   "metadata": {},
   "outputs": [],
   "source": [
    "# 6. Any other insights you found during your analysis?\n",
    "\n",
    "# Correlation between size and CO2 emissions\n",
    "correlation = np.corrcoef(cars_engine_sizes, cars_co2_emissions)\n",
    "print(correlation) # Positive correlation\n",
    "\n",
    "\n",
    "# DataFrame summarizing data by vehicle class\n",
    "car_class = np.unique(cars_classes)\n",
    "arr_class = []\n",
    "\n",
    "for car in car_class:\n",
    "    dic = {}\n",
    "    dic['Class'] = car\n",
    "    dic['AVG-CO2-Emissions'] = round(cars[cars['Vehicle Class'] == car]['CO2 Emissions(g/km)'].mean(), 2) \n",
    "    dic['Model-max-cons'] = round(cars[cars['Vehicle Class'] == car]['Fuel Consumption Comb (L/100 km)'].max(), 2)\n",
    "    dic['Model-max-engine-size'] = round(cars[cars['Vehicle Class'] == car]['Engine Size(L)'].max(), 2)   \n",
    "    dic['Model-min-cons'] = round(cars[cars['Vehicle Class'] == car]['Fuel Consumption Comb (L/100 km)'].min(), 2)\n",
    "    dic['Model-min-engine-size'] = round(cars[cars['Vehicle Class'] == car]['Engine Size(L)'].min(), 2)\n",
    "\n",
    "    arr_class.append(dic)\n",
    "\n",
    "# DataFrame summarizing data by vehicle manufacturer\n",
    "car_made = np.unique(cars_makes)\n",
    "arr_make = []\n",
    "\n",
    "for car in car_made:\n",
    "    dic = {}\n",
    "    dic['Make'] = car\n",
    "    dic['AVG-CO2-Emissions'] = round(cars[cars['Make'] == car]['CO2 Emissions(g/km)'].mean(), 2) \n",
    "    dic['Model-max-cons'] = round(cars[cars['Make'] == car]['Fuel Consumption Comb (L/100 km)'].max(), 2)\n",
    "    dic['Model-max-engine-size'] = round(cars[cars['Make'] == car]['Engine Size(L)'].max(), 2)   \n",
    "    dic['Model-min-cons'] = round(cars[cars['Make'] == car]['Fuel Consumption Comb (L/100 km)'].min(), 2)\n",
    "    dic['Model-min-engine-size'] = round(cars[cars['Make'] == car]['Engine Size(L)'].min(), 2)\n",
    "\n",
    "    arr_make.append(dic)    \n",
    "    \n",
    "\n",
    "cars_summary_class = pd.DataFrame.from_records(arr_class)\n",
    "cars_summary_make = pd.DataFrame.from_records(arr_make)\n",
    "\n",
    "display(cars_summary_class)\n",
    "display(cars_summary_make)\n",
    "\n",
    "\n",
    "# Company that makes cars with higher CO2 emissions \n",
    "display(cars_summary_make.sort_values('AVG-CO2-Emissions', ascending= False)[0:1]) # BUGATTI\n",
    "\n",
    "# Car class with higher CO2 emissions \n",
    "display(cars_summary_class.sort_values('AVG-CO2-Emissions', ascending= False)[0:1]) # VAN - PASSENGER"
   ]
  },
  {
   "attachments": {},
   "cell_type": "markdown",
   "metadata": {},
   "source": [
    "## 2️⃣ SQL - Understanding the bicycle market \n",
    "\n",
    "## 📖 Background\n",
    "You work for a chain of bicycle stores. Your new team leader comes from a different industry and wants your help learning about the bicycle market. Specifically, they need to understand better the brands and categories for sale at your stores."
   ]
  },
  {
   "attachments": {},
   "cell_type": "markdown",
   "metadata": {},
   "source": [
    "## 💾 The data II\n",
    "\n",
    "### You have access to the following tables:\n",
    "\n",
    "#### products\n",
    "- \"product_id\" - Product identifier.\n",
    "- \"product_name\" - The name of the bicycle.\n",
    "- \"brand_id\" - You can look up the brand's name in the \"brands\" table.\n",
    "- \"category_id\" - You can look up the category's name in the \"categories\" table.\n",
    "- \"model_year\" - The model year of the bicycle.\n",
    "- \"list_price\" - The price of the bicycle.\n",
    "\n",
    "#### brands\n",
    "- \"brand_id\" - Matches the identifier in the \"products\" table.\n",
    "- \"brand_name\" - One of the nine brands the store sells.\n",
    "\n",
    "#### categories\n",
    "- \"category_id\" - Matches the identifier in the \"products\" table.\n",
    "- \"category_name\" - One of the seven product categories in the store."
   ]
  },
  {
   "attachments": {},
   "cell_type": "markdown",
   "metadata": {},
   "source": [
    "## A note on SQL\n",
    "You can click the \"Browse tables\" button in the upper right-hand corner of the SQL cell below to view the available tables. They will show on the left of the notebook.\n",
    "\n",
    "It is also important to note that the database used in this challenge is a slightly different version (SQL Server) from the one used in the Introduction to SQL course (PostgreSQL). You might notice that the keyword **LIMIT** does not exist in SQL Server."
   ]
  },
  {
   "attachments": {},
   "cell_type": "markdown",
   "metadata": {},
   "source": [
    "## 💪 Challenge II\n",
    "Help your team leader understand your company's products. Include:\n",
    "\n",
    "1. What is the most expensive item your company sells? The least expensive?\n",
    "2. How many different products of each category does your company sell?\n",
    "3. What are the top three brands with the highest average list price? The top three categories?"
   ]
  },
  {
   "cell_type": "code",
   "execution_count": null,
   "metadata": {},
   "outputs": [],
   "source": [
    "%%sql\n",
    "\n",
    "--Most expensive item\n",
    "SELECT product_id, product_name, list_price\n",
    "FROM products\n",
    "WHERE list_price = (SELECT MAX(list_price) FROM products);\n"
   ]
  },
  {
   "cell_type": "code",
   "execution_count": null,
   "metadata": {},
   "outputs": [],
   "source": [
    "%%sql\n",
    "\n",
    "-- Least expensive item\n",
    "SELECT product_id, product_name, list_price\n",
    "FROM products\n",
    "WHERE list_price = (SELECT MIN(list_price) FROM products);"
   ]
  },
  {
   "cell_type": "code",
   "execution_count": null,
   "metadata": {},
   "outputs": [],
   "source": [
    "%%sql\n",
    "\n",
    "-- different products of each category\n",
    "SELECT categories.category_name, COUNT(DISTINCT products.list_price) AS [Diferents products of each category]\n",
    "FROM products\n",
    "INNER JOIN categories ON products.category_id = categories.category_id\n",
    "GROUP BY categories.category_name;"
   ]
  },
  {
   "cell_type": "code",
   "execution_count": null,
   "metadata": {},
   "outputs": [],
   "source": [
    "%%sql\n",
    "\n",
    "-- Top 3 brands with the highest average list price\n",
    "SELECT TOP 3 brands.brand_name, ROUND(AVG(products.list_price), 2) AS avg_price_list\n",
    "FROM products\n",
    "INNER JOIN brands ON products.brand_id = brands.brand_id\n",
    "GROUP BY brands.brand_name\n",
    "ORDER BY avg_price_list DESC;"
   ]
  },
  {
   "cell_type": "code",
   "execution_count": null,
   "metadata": {},
   "outputs": [],
   "source": [
    "%%sql\n",
    "\n",
    "-- Top 3 categories with the highest average list price\n",
    "SELECT TOP 3 categories.category_name, ROUND(AVG(products.list_price), 2) AS avg_price_list\n",
    "FROM products\n",
    "INNER JOIN categories ON products.category_id = categories.category_id\n",
    "GROUP BY categories.category_name\n",
    "ORDER BY avg_price_list DESC;"
   ]
  }
 ],
 "metadata": {
  "kernelspec": {
   "display_name": "Python 3",
   "language": "python",
   "name": "python3"
  },
  "language_info": {
   "name": "python",
   "version": "3.11.1"
  },
  "orig_nbformat": 4
 },
 "nbformat": 4,
 "nbformat_minor": 2
}
